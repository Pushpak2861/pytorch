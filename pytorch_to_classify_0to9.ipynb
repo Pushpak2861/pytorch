{
  "nbformat": 4,
  "nbformat_minor": 0,
  "metadata": {
    "colab": {
      "provenance": []
    },
    "kernelspec": {
      "name": "python3",
      "display_name": "Python 3"
    },
    "language_info": {
      "name": "python"
    }
  },
  "cells": [
    {
      "cell_type": "code",
      "source": [
        "import torch\n",
        "from torch import nn\n",
        "from torchvision.transforms import ToTensor\n",
        "from torch.utils.data import DataLoader\n",
        "from torchvision import datasets\n",
        "import matplotlib.pyplot as plt"
      ],
      "metadata": {
        "id": "ItCBdq60U2PQ"
      },
      "execution_count": 1,
      "outputs": []
    },
    {
      "cell_type": "code",
      "source": [
        "train_data = datasets.FashionMNIST(\n",
        "    root = \"data\",\n",
        "    train = True,\n",
        "    download = True,\n",
        "    transform = ToTensor(),\n",
        ")\n",
        "\n",
        "test_data = datasets.FashionMNIST(\n",
        "    root = \"data\",\n",
        "    train = False,\n",
        "    download = True,\n",
        "    transform = ToTensor(),\n",
        ")\n",
        "\n",
        "batch_size =64\n",
        "\n",
        "train_dataloader = DataLoader(train_data , batch_size = batch_size)\n",
        "test_dataloader = DataLoader(test_data , batch_size = batch_size)\n",
        "\n",
        "print(f\"train shape before loading : {len(train_data)}\")\n",
        "print(f\"test shape before loading : {len(train_data)}\")\n",
        "print(f\"train shape after loading : {len(train_dataloader)*batch_size}\")\n",
        "print(f\"test shape after loading : {len(test_dataloader)*batch_size}\")"
      ],
      "metadata": {
        "colab": {
          "base_uri": "https://localhost:8080/"
        },
        "id": "nNdJwqTbYdnU",
        "outputId": "108371a8-a7fa-40fa-aa6b-cb1d614e0485"
      },
      "execution_count": 2,
      "outputs": [
        {
          "output_type": "stream",
          "name": "stdout",
          "text": [
            "train shape before loading : 60000\n",
            "test shape before loading : 60000\n",
            "train shape after loading : 60032\n",
            "test shape after loading : 10048\n"
          ]
        }
      ]
    },
    {
      "cell_type": "markdown",
      "source": [
        "#setting up the Neural Network"
      ],
      "metadata": {
        "id": "-h3ohY9NaL5V"
      }
    },
    {
      "cell_type": "code",
      "source": [
        "device = None\n",
        "\n",
        "if torch.cuda.is_available():\n",
        "  device = \"cuda\"\n",
        "else:\n",
        "  device = \"cpu\"\n",
        "print(f\"using {device}\")\n",
        "\n",
        "device = torch.device(device)"
      ],
      "metadata": {
        "colab": {
          "base_uri": "https://localhost:8080/"
        },
        "id": "L4JZdwebaKha",
        "outputId": "0959ad69-9f38-4c6e-c0a2-cfeaca0d92bb"
      },
      "execution_count": 3,
      "outputs": [
        {
          "output_type": "stream",
          "name": "stdout",
          "text": [
            "using cpu\n"
          ]
        }
      ]
    },
    {
      "cell_type": "code",
      "source": [
        "class NeuralNetworks(nn.Module):\n",
        "  def __init__(self ,input_size , hidden_layer , output_size):\n",
        "    super().__init__()\n",
        "    self.flatten = nn.Flatten()\n",
        "    self.Linear_relu_stack = nn.Sequential(\n",
        "        nn.Linear(input_size , hidden_layer),\n",
        "        nn.ReLU(),\n",
        "        nn.Linear(hidden_layer , hidden_layer),\n",
        "        nn.ReLU(),\n",
        "        nn.Linear(hidden_layer , output_size)\n",
        "    )\n",
        "\n",
        "  def forward(self,image_tensor):\n",
        "    image_tensor = self.flatten(image_tensor)\n",
        "    pred = self.Linear_relu_stack(image_tensor)\n",
        "    return pred"
      ],
      "metadata": {
        "id": "USW93WYNalqu"
      },
      "execution_count": 4,
      "outputs": []
    },
    {
      "cell_type": "code",
      "source": [
        "input_size = 28*28\n",
        "hidden_layer = 512\n",
        "output_size = 10\n",
        "model = NeuralNetworks(input_size , hidden_layer , output_size).to(device)\n",
        "print(model)"
      ],
      "metadata": {
        "colab": {
          "base_uri": "https://localhost:8080/"
        },
        "id": "q9uW_WyzdW_V",
        "outputId": "10e4dc3c-974e-45e9-ba55-9386066f179b"
      },
      "execution_count": 5,
      "outputs": [
        {
          "output_type": "stream",
          "name": "stdout",
          "text": [
            "NeuralNetworks(\n",
            "  (flatten): Flatten(start_dim=1, end_dim=-1)\n",
            "  (Linear_relu_stack): Sequential(\n",
            "    (0): Linear(in_features=784, out_features=512, bias=True)\n",
            "    (1): ReLU()\n",
            "    (2): Linear(in_features=512, out_features=512, bias=True)\n",
            "    (3): ReLU()\n",
            "    (4): Linear(in_features=512, out_features=10, bias=True)\n",
            "  )\n",
            ")\n"
          ]
        }
      ]
    },
    {
      "cell_type": "code",
      "source": [
        "lr = 1e-3\n",
        "loss_fn = nn.CrossEntropyLoss()\n",
        "optimizer = torch.optim.Adam(model.parameters(),lr=lr)\n"
      ],
      "metadata": {
        "id": "qeGYAhygBWA9"
      },
      "execution_count": 6,
      "outputs": []
    },
    {
      "cell_type": "code",
      "source": [
        "def train(DataLoader):\n",
        "  size = len(DataLoader.dataset)\n",
        "  model.train()\n",
        "\n",
        "  for batch_num , (X,y) in enumerate(DataLoader):\n",
        "    x , y = X.to(device) , y.to(device)\n",
        "\n",
        "    pred = model(x)\n",
        "    loss = loss_fn(pred,y)\n",
        "\n",
        "    optimizer.zero_grad()\n",
        "    loss.backward()\n",
        "    optimizer.step()\n",
        "\n",
        "    if batch_num>0 and batch_num%100 ==0:\n",
        "      loss = loss.item()\n",
        "      print(f\"loss : {loss:2f}\")"
      ],
      "metadata": {
        "id": "wREF4yxlMPai"
      },
      "execution_count": 13,
      "outputs": []
    },
    {
      "cell_type": "code",
      "source": [
        "def test(DataLoader):\n",
        "  size = len(DataLoader.dataset)\n",
        "  batch_size = (DataLoader)\n",
        "\n",
        "  model.eval()\n",
        "  loss , correct = 0,0\n",
        "  for batch_num , (X,y) in enumerate(DataLoader):\n",
        "    x ,y = X.to(device) , y.to(device)\n",
        "    pred = model(x)\n",
        "    loss += loss_fn(pred,y)\n",
        "    correct += (pred.argmax(1)==y).type(torch.float).sum().item()\n",
        "\n",
        "  loss /= size\n",
        "  correct /= size\n",
        "  print(f\"Test Error: \\n Accuracy: {(100*correct):>0.1f}%, Avg loss: {loss:>8f} \\n\")\n"
      ],
      "metadata": {
        "id": "Bl4rBzrbP6VX"
      },
      "execution_count": 16,
      "outputs": []
    },
    {
      "cell_type": "code",
      "source": [
        "epochs = 5\n",
        "for t in range(epochs):\n",
        "    print(f\"Epoch {t+1}\\n-------------------------------\")\n",
        "    train(train_dataloader)\n",
        "    test(test_dataloader)\n",
        "print(\"Done!\")"
      ],
      "metadata": {
        "colab": {
          "base_uri": "https://localhost:8080/"
        },
        "id": "HkOTNXtzRIMz",
        "outputId": "4623c5d5-6da2-4d77-8702-865291720b26"
      },
      "execution_count": 17,
      "outputs": [
        {
          "output_type": "stream",
          "name": "stdout",
          "text": [
            "Epoch 1\n",
            "-------------------------------\n",
            "loss : 0.371225\n",
            "loss : 0.300885\n",
            "loss : 0.376256\n",
            "loss : 0.397656\n",
            "loss : 0.354059\n",
            "loss : 0.332847\n",
            "loss : 0.467751\n",
            "loss : 0.381924\n",
            "loss : 0.475219\n",
            "Test Error: \n",
            " Accuracy: 85.2%, Avg loss: 0.006215 \n",
            "\n",
            "Epoch 2\n",
            "-------------------------------\n",
            "loss : 0.340598\n",
            "loss : 0.241491\n",
            "loss : 0.338096\n",
            "loss : 0.352208\n",
            "loss : 0.338661\n",
            "loss : 0.287123\n",
            "loss : 0.403545\n",
            "loss : 0.345174\n",
            "loss : 0.401925\n",
            "Test Error: \n",
            " Accuracy: 86.2%, Avg loss: 0.005904 \n",
            "\n",
            "Epoch 3\n",
            "-------------------------------\n",
            "loss : 0.319887\n",
            "loss : 0.231184\n",
            "loss : 0.258282\n",
            "loss : 0.337457\n",
            "loss : 0.306257\n",
            "loss : 0.266266\n",
            "loss : 0.353758\n",
            "loss : 0.286714\n",
            "loss : 0.318207\n",
            "Test Error: \n",
            " Accuracy: 86.3%, Avg loss: 0.005838 \n",
            "\n",
            "Epoch 4\n",
            "-------------------------------\n",
            "loss : 0.279443\n",
            "loss : 0.216528\n",
            "loss : 0.230248\n",
            "loss : 0.346719\n",
            "loss : 0.262817\n",
            "loss : 0.228715\n",
            "loss : 0.338294\n",
            "loss : 0.290930\n",
            "loss : 0.277929\n",
            "Test Error: \n",
            " Accuracy: 86.4%, Avg loss: 0.005825 \n",
            "\n",
            "Epoch 5\n",
            "-------------------------------\n",
            "loss : 0.222154\n",
            "loss : 0.210625\n",
            "loss : 0.228848\n",
            "loss : 0.382197\n",
            "loss : 0.241268\n",
            "loss : 0.253979\n",
            "loss : 0.300494\n",
            "loss : 0.252170\n",
            "loss : 0.303137\n",
            "Test Error: \n",
            " Accuracy: 87.4%, Avg loss: 0.005486 \n",
            "\n",
            "Done!\n"
          ]
        }
      ]
    },
    {
      "cell_type": "code",
      "source": [
        "torch.save(model.state_dict(),\"myfirstnn.pth\")\n",
        "print(\"saved pytorch model state to myfirstnn\")\n",
        "\n",
        "model = NeuralNetworks(input_size , hidden_layer , output_size)\n",
        "model.load_state_dict(torch.load(\"myfirstnn.pth\"))\n",
        "\n",
        "model.eval()\n",
        "\n",
        "for i in range(10):\n",
        "  x,y = test_data[i][0],test_data[i][1]\n",
        "  x = x.to(device)\n",
        "  pred = model(x)\n",
        "  pred , actual = pred.argmax(1) , y\n",
        "  print(f\" predicted : {pred} actual : {actual}\")"
      ],
      "metadata": {
        "colab": {
          "base_uri": "https://localhost:8080/"
        },
        "id": "SyjLHZivTKDP",
        "outputId": "72923ba3-0fbf-4e82-946c-b4ac99997f13"
      },
      "execution_count": 25,
      "outputs": [
        {
          "output_type": "stream",
          "name": "stdout",
          "text": [
            "saved pytorch model state to myfirstnn\n",
            " predicted : tensor([9]) actual : 9\n",
            " predicted : tensor([2]) actual : 2\n",
            " predicted : tensor([1]) actual : 1\n",
            " predicted : tensor([1]) actual : 1\n",
            " predicted : tensor([6]) actual : 6\n",
            " predicted : tensor([1]) actual : 1\n",
            " predicted : tensor([4]) actual : 4\n",
            " predicted : tensor([6]) actual : 6\n",
            " predicted : tensor([5]) actual : 5\n",
            " predicted : tensor([7]) actual : 7\n"
          ]
        },
        {
          "output_type": "stream",
          "name": "stderr",
          "text": [
            "<ipython-input-25-be6e0e2b9ac1>:5: FutureWarning: You are using `torch.load` with `weights_only=False` (the current default value), which uses the default pickle module implicitly. It is possible to construct malicious pickle data which will execute arbitrary code during unpickling (See https://github.com/pytorch/pytorch/blob/main/SECURITY.md#untrusted-models for more details). In a future release, the default value for `weights_only` will be flipped to `True`. This limits the functions that could be executed during unpickling. Arbitrary objects will no longer be allowed to be loaded via this mode unless they are explicitly allowlisted by the user via `torch.serialization.add_safe_globals`. We recommend you start setting `weights_only=True` for any use case where you don't have full control of the loaded file. Please open an issue on GitHub for any issues related to this experimental feature.\n",
            "  model.load_state_dict(torch.load(\"myfirstnn.pth\"))\n"
          ]
        }
      ]
    }
  ]
}