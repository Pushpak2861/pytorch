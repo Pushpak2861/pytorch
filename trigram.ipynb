{
  "nbformat": 4,
  "nbformat_minor": 0,
  "metadata": {
    "colab": {
      "provenance": []
    },
    "kernelspec": {
      "name": "python3",
      "display_name": "Python 3"
    },
    "language_info": {
      "name": "python"
    }
  },
  "cells": [
    {
      "cell_type": "code",
      "source": [
        "from nltk.tokenize import word_tokenize\n",
        "from nltk import trigrams, bigrams\n",
        "import random as rand\n",
        "import pandas as pd"
      ],
      "metadata": {
        "id": "YLgPGf_QP2Z_"
      },
      "execution_count": 15,
      "outputs": []
    },
    {
      "cell_type": "code",
      "source": [
        "import nltk\n",
        "nltk.download(\"punkt_tab\")"
      ],
      "metadata": {
        "colab": {
          "base_uri": "https://localhost:8080/"
        },
        "id": "yWHmKz3DQkvM",
        "outputId": "4674ec1c-a2e2-4f4d-e5f7-b62bad590477"
      },
      "execution_count": 16,
      "outputs": [
        {
          "output_type": "stream",
          "name": "stderr",
          "text": [
            "[nltk_data] Downloading package punkt_tab to /root/nltk_data...\n",
            "[nltk_data]   Package punkt_tab is already up-to-date!\n"
          ]
        },
        {
          "output_type": "execute_result",
          "data": {
            "text/plain": [
              "True"
            ]
          },
          "metadata": {},
          "execution_count": 16
        }
      ]
    },
    {
      "cell_type": "code",
      "source": [
        "def create_trigram(tokens):\n",
        "  tri = list(trigrams(tokens))\n",
        "  county = []\n",
        "  txt = []\n",
        "  for i in tri:\n",
        "    i = list(i)\n",
        "    i = \" \".join(i)\n",
        "    txt.append(i)\n",
        "    county.append(rand.randint(100,1000))\n",
        "\n",
        "  df = pd.DataFrame({\"trigrams\":txt , \"count\":county})\n",
        "\n",
        "  return df\n",
        ""
      ],
      "metadata": {
        "id": "1n9y6LsvQ60I"
      },
      "execution_count": 17,
      "outputs": []
    },
    {
      "cell_type": "code",
      "source": [
        "def create_bi(tokens):\n",
        "  bi_g = list(nltk.bigrams(tokens))\n",
        "\n",
        "  county = []\n",
        "  txt = []\n",
        "  for i in bi_g:\n",
        "    i = list(i)\n",
        "    i = \" \".join(i)\n",
        "    txt.append(i)\n",
        "    county.append(rand.randint(1000,10000))\n",
        "\n",
        "  df = pd.DataFrame({\"bigrams\":txt , \"count\":county})\n",
        "\n",
        "  return df\n",
        "\n",
        ""
      ],
      "metadata": {
        "id": "9ksPtNSmSNCe"
      },
      "execution_count": 18,
      "outputs": []
    },
    {
      "cell_type": "code",
      "source": [
        "def probability_count(tri , bi ,txt):\n",
        "\n",
        "  #sliding window approach\n",
        "  trigram = [ \" \".join(txt[i:i+3]) for i in range(len(txt)-2)]\n",
        "  bigram = [\" \".join(txt[i:i+2]) for i in range(len(txt)-1)]\n",
        "\n",
        "  prob_tri = []\n",
        "  prob_bi = []\n",
        "\n",
        "\n",
        "  for i in trigram:\n",
        "    try:\n",
        "      val = tri[tri[\"trigrams\"]==i][\"count\"].values[0]\n",
        "      prob_tri.append(val)\n",
        "    except IndexError:\n",
        "      prob_tri.append(1)\n",
        "\n",
        "  for i in bigram:\n",
        "    try:\n",
        "      val = bi[bi[\"bigrams\"]==i][\"count\"].values[0]\n",
        "      prob_bi.append(val)\n",
        "    except IndexError:\n",
        "      prob_bi.append(1)\n",
        "\n",
        "  final_val = 1\n",
        "\n",
        "  for i in range(len(prob_tri)):\n",
        "    val = prob_tri[i]/prob_bi[i]\n",
        "    final_val*=val\n",
        "\n",
        "  return final_val"
      ],
      "metadata": {
        "id": "1zz54gTmWVGE"
      },
      "execution_count": 38,
      "outputs": []
    },
    {
      "cell_type": "code",
      "source": [
        "if __name__ == \"__main__\":\n",
        "  text = \"\"\"\n",
        "  I love studying artificial intelligence and machine learning.\n",
        "  Artificial intelligence and machine learning are fascinating fields.\n",
        "  I love learning about artificial intelligence.\n",
        "  \"\"\"\n",
        "\n",
        "  tokens = word_tokenize(text.lower())\n",
        "  print(tokens,\"\\n\")\n",
        "  tri = create_trigram(tokens)\n",
        "  bi = create_bi(tokens)\n",
        "  sentence= [\"i\" , \"love\" , \"studying\"]\n",
        "  prob1 = probability_count(tri,bi,sentence)\n",
        "  sentence= [\"i\" , \"love\" , \"learning\", \"about\"]\n",
        "  prob2 = probability_count(tri,bi,sentence)\n",
        "\n",
        "  if prob1>prob2:\n",
        "    print(f\"sentence 1 is more probable : prob1 ->{prob1} prob2->{prob2}\")\n",
        "  else:\n",
        "    print(f\"sentence 2 is more probable : prob2->{prob2} prob1->{prob1}\")\n",
        ""
      ],
      "metadata": {
        "colab": {
          "base_uri": "https://localhost:8080/"
        },
        "id": "TKRpfKNuQIZf",
        "outputId": "87646401-ba85-494e-fb22-d4018eeba3b3"
      },
      "execution_count": 39,
      "outputs": [
        {
          "output_type": "stream",
          "name": "stdout",
          "text": [
            "['i', 'love', 'studying', 'artificial', 'intelligence', 'and', 'machine', 'learning', '.', 'artificial', 'intelligence', 'and', 'machine', 'learning', 'are', 'fascinating', 'fields', '.', 'i', 'love', 'learning', 'about', 'artificial', 'intelligence', '.'] \n",
            "\n",
            "sentence 1 is more probable : prob1 ->0.06589239156198151 prob2->0.009081185889856637\n"
          ]
        }
      ]
    }
  ]
}